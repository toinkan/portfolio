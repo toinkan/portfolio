{
  "nbformat": 4,
  "nbformat_minor": 0,
  "metadata": {
    "colab": {
      "provenance": []
    },
    "kernelspec": {
      "name": "python3",
      "display_name": "Python 3"
    },
    "language_info": {
      "name": "python"
    }
  },
  "cells": [
    {
      "cell_type": "code",
      "execution_count": null,
      "metadata": {
        "id": "p7vt3g1z02az"
      },
      "outputs": [],
      "source": [
        "class Farmacia:\n",
        "    def __init__(self, nomefarm, numerofarm, emailfarm, horariofuncionamento, registrofarm, CNPJ, licencasanitaria,\n",
        "                 resptec, numresptec, ultimoganho, ganhos):\n",
        "        self.nomefarm = nomefarm\n",
        "        self.numerofarm = numerofarm\n",
        "        self.emailfarm = emailfarm\n",
        "        self.horariofuncionamento = horariofuncionamento\n",
        "        self.registrofarm = registrofarm\n",
        "        self.CNPJ = CNPJ\n",
        "        self.licencasanitaria = licencasanitaria\n",
        "        self.resptec = resptec\n",
        "        self.numresptec = numresptec\n",
        "        self.ultimoganho = ultimoganho\n",
        "        self.ganhos = ganhos\n",
        "\n",
        "    def atualizar_ganhos(self, preco):\n",
        "        self.ultimoganho = self.ganhos\n",
        "        self.ganhos += preco"
      ]
    },
    {
      "cell_type": "code",
      "source": [
        "paguemais= Farmacia(\"Paguemais\", \"85 99242-4132\", \"Paguemaislevemais@gmail.com\", \"8:00 - > 12:00, 14:00 -> 22:00\", \"06.626.253/0001-51\" ,\"30.680.478/0001-70\", \"licença poggers\", \"Rycharlisson\", \"85 99242-4131\", 00.00, 00.00)"
      ],
      "metadata": {
        "id": "97Q54ia7eMXw"
      },
      "execution_count": null,
      "outputs": []
    },
    {
      "cell_type": "code",
      "source": [
        "class Cliente:\n",
        "    def __init__(self, nome, cpf, endereco):\n",
        "        self.nome = nome\n",
        "        self.cpf = cpf\n",
        "        self.endereco = endereco\n",
        "\n",
        "    def compra(self, Produto, funcionario):\n",
        "        print(f\"{self.nome} está comprando {Produto.nome}\")\n",
        "        quantidade = int(input(\"digite a quantidade para a compra: \"))\n",
        "        quantidadedada = True\n",
        "        funcionario.vender(quantidade, Produto, quantidadedada)\n",
        "\n",
        "    def exibeinfo(self):\n",
        "        print(f'o nome do cliente é {self.nome}, o cpf dele é {self.cpf}, o endereço é {self.endereco}')\n",
        "\n",
        "alucar = Cliente('ronaldo' , '093.364.195.46' , 'umirim')\n",
        "alucar.compra(citalopram, edu)"
      ],
      "metadata": {
        "id": "jTiIOPGl2FFh",
        "colab": {
          "base_uri": "https://localhost:8080/"
        },
        "outputId": "ac9400c8-fa1e-4cdd-c648-5adedbf034ff"
      },
      "execution_count": null,
      "outputs": [
        {
          "output_type": "stream",
          "name": "stdout",
          "text": [
            "ronaldo está comprando citalopram\n",
            "digite a quantidade para a compra: 5\n",
            "foram vendidas 5 unidades de citalopram, faturando R$50.00\n"
          ]
        }
      ]
    },
    {
      "cell_type": "code",
      "source": [
        "quantidadedada = False\n",
        "comprafeita= False\n",
        "class Funcionario(Farmacia):\n",
        "  def __init__(self, nome, cpf, num_crachar, atendendo=False):\n",
        "        self.nome = nome\n",
        "        self.cpf = cpf\n",
        "        self.num_crachar = num_crachar\n",
        "        self.atendendo = atendendo\n",
        "        super().__init__(nomefarm='', numerofarm='', emailfarm='', horariofuncionamento='', registrofarm='',\n",
        "                         CNPJ='', licencasanitaria='', resptec='', numresptec='', ultimoganho=0, ganhos=0)\n",
        "\n",
        "\n",
        "  def atender(self):\n",
        "    if self.atendendo == False:\n",
        "      self.atendendo = True\n",
        "    else:\n",
        "      print(f'o {self.nome} não pode atender agora.')\n",
        "\n",
        "  def vender(self, quantidade, Produto, quantidadedada):\n",
        "    while comprafeita == False:\n",
        "      if quantidadedada == True:\n",
        "        preco = Produto.get_preco() * quantidade\n",
        "        paguemais.atualizar_ganhos(preco)\n",
        "      else:\n",
        "        quantidade = int(input(f\"Digite a quantidade de {Produto.nome} para a venda: \"))\n",
        "        preco = Produto.get_preco() * quantidade\n",
        "        paguemais.atualizar_ganhos(preco)\n",
        "\n",
        "      if quantidade > 1:\n",
        "        print(f'foram vendidas {quantidade} unidades de {Produto.nome}, faturando R${preco:.2f}')\n",
        "        break\n",
        "      elif quantidade == 1:\n",
        "        print(f'foi vendida {quantidade} unidade de {Produto.nome}, faturando R${preco:.2f}')\n",
        "        break\n",
        "      else:\n",
        "          print(f'Erro, tente novamente')\n",
        "\n",
        "edu = Funcionario('Eduardo', '753.153.257.09', '53892', paguemais)\n",
        "\n",
        "edu.vender(1, citalopram, quantidadedada)\n",
        "print(\"o ganho da farmacia atualmente é:\", paguemais.ganhos)\n",
        "print(paguemais.ultimoganho)"
      ],
      "metadata": {
        "id": "3hpyLKLfi_t5",
        "colab": {
          "base_uri": "https://localhost:8080/"
        },
        "outputId": "4c15ce11-799a-4fe0-ee25-662cf0eb965d"
      },
      "execution_count": null,
      "outputs": [
        {
          "output_type": "stream",
          "name": "stdout",
          "text": [
            "Digite a quantidade de citalopram para a venda: 5\n",
            "foram vendidas 5 unidades de citalopram, faturando R$50.00\n",
            "o ganho da farmacia atualmente é: 50.0\n",
            "0.0\n"
          ]
        }
      ]
    },
    {
      "cell_type": "code",
      "source": [
        "class Fornecedora:\n",
        "  def __init__(self,nomefornecedora,cnpj,endereco):\n",
        "    self.nomefornecedora = nomefornecedora\n",
        "    self.cpnj = cnpj\n",
        "    self.endereco = endereco\n",
        "\n",
        "fornecedora_do_governo = Fornecedora(\"Gover\", \"0390\", \"29188\")"
      ],
      "metadata": {
        "id": "J9vW9o73tYan"
      },
      "execution_count": null,
      "outputs": []
    },
    {
      "cell_type": "code",
      "source": [
        "class Produto:\n",
        "  def __init__(self,nome,descricao,preco,fornecedora,dataV):\n",
        "    self.fornecedora = fornecedora.nomefornecedora\n",
        "    self.nome = nome\n",
        "    self.descricao = descricao\n",
        "    self.preco = preco\n",
        "    self.dataV = dataV\n",
        "\n",
        "  def get_preco(self):\n",
        "    return self.preco\n",
        "\n",
        "citalopram = Produto(\"citalopram\", \"Remedio usado para tratamento antidepressivo\", 10.00, fornecedora_do_governo, \"20/12/2024\")"
      ],
      "metadata": {
        "id": "aRPw874evayk"
      },
      "execution_count": null,
      "outputs": []
    }
  ]
}